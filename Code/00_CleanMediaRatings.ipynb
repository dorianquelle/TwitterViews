{
 "cells": [
  {
   "cell_type": "code",
   "execution_count": 26,
   "metadata": {},
   "outputs": [],
   "source": [
    "import os \n",
    "import pandas \n",
    "\n",
    "# Read in the data\n",
    "data = pandas.read_excel(\"../Data/MediaRatingTwitter.xlsx\")\n",
    "# Remove Rows which are 1) Empty, 2) NA, 3) Not a Twitter Handle\n",
    "data = data[(data[\"Twitter Handle\"].notna()) & (data[\"Twitter Handle\"].str.contains(\"@\"))]\n",
    "data = data.reset_index(drop=True)\n",
    "data = data.loc[:, [\"Name of Outlet\", \"Political Leaning\",\"Twitter Handle\"]]\n",
    "# Count number of @ per row\n",
    "assert set(data[\"Twitter Handle\"].str.count(\"@\")) == {1}, \"At least one row has more or less than one @\"\n",
    "# Export to CSV\n",
    "data.to_csv(\"../Data/Clean_MediaRatingTwitter.csv\", index=False)"
   ]
  }
 ],
 "metadata": {
  "kernelspec": {
   "display_name": "Python 3",
   "language": "python",
   "name": "python3"
  },
  "language_info": {
   "codemirror_mode": {
    "name": "ipython",
    "version": 3
   },
   "file_extension": ".py",
   "mimetype": "text/x-python",
   "name": "python",
   "nbconvert_exporter": "python",
   "pygments_lexer": "ipython3",
   "version": "3.10.9"
  },
  "orig_nbformat": 4,
  "vscode": {
   "interpreter": {
    "hash": "b0fa6594d8f4cbf19f97940f81e996739fb7646882a419484c72d19e05852a7e"
   }
  }
 },
 "nbformat": 4,
 "nbformat_minor": 2
}
