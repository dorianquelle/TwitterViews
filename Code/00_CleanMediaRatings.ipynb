{
 "cells": [
  {
   "cell_type": "code",
   "execution_count": 23,
   "metadata": {},
   "outputs": [],
   "source": [
    "import os \n",
    "import pandas as pd\n",
    "# Set the working directory\n",
    "os.chdir(\"/Users/dorianquelle/Desktop/zurich/TwitterViews/Code\")"
   ]
  },
  {
   "cell_type": "code",
   "execution_count": 25,
   "metadata": {},
   "outputs": [],
   "source": [
    "# Read in the data\n",
    "data = pd.read_csv(\"../Mediadatabases/Clean_MediaRatingTwitter.csv\",index_col=0)\n",
    "# Remove Rows which are 1) Empty, 2) NA, 3) Not a Twitter Handle\n",
    "data = data[(data[\"Twitter.Handle\"].notna())]\n",
    "data = data.reset_index(drop=True)\n",
    "data = data.loc[:, [\"Name.of.Outlet\", \"Political.Leaning\",\"Twitter.Handle\"]]\n",
    "# Count number of @ per row\n",
    "assert set(data[\"Twitter.Handle\"].str.count(\"@\")) == {0}, \"At least one row has more or less than one @\"\n",
    "data = data[~data[\"Twitter.Handle\"].duplicated()]\n",
    "# Shuffle the data\n",
    "data = data.sample(frac=1).reset_index(drop=True)\n",
    "# Export to CSV\n",
    "data = data[~data[\"Name.of.Outlet\"].str.contains(\"bama\")]\n",
    "too_big = ['CNN','HuffPost','ABC News','Associated Press','The Guardian','The New York Times News','TIME','The Washington Post','Forbes','Reuters','The Wall Street Journal News','Fox News','barackobama.com','theguardian.com','huffingtonpost.com','vogue.com','mtv.com','wired.com','economist.com','nytimes.com','washingtonpost.com','billboard.com','theonion.com','reuters.com','time.com','techcrunch.com','cnn.com','eonline.com','apnews.com','abcnews.go.com','wsj.com','blogs.wsj.com','forbes.com','nfl.com','espn.com','foxnews.com']\n",
    "small_data = data[~data[\"Name.of.Outlet\"].isin(too_big)]\n",
    "\n",
    "data.to_csv(\"../Mediadatabases/Clean_MediaRatingTwitter.csv\", index=False)\n",
    "small_data.to_csv(\"../Mediadatabases/small_Clean_MediaRatingTwitter.csv\", index=False)"
   ]
  },
  {
   "cell_type": "code",
   "execution_count": null,
   "metadata": {},
   "outputs": [],
   "source": [
    "state_media = pd.read_excel(\"../Mediadatabases/StateMediaTwitter.xlsx\")\n",
    "# Parse Twitter Link to get Twitter Handle\n",
    "state_media[\"Twitter Handle\"] = state_media[\"Twitter Link\"].str.split(\"/\").str[-1]\n",
    "# Remove Rows which are 1) Empty, 2) NA, 3) Not a Twitter Handle\n",
    "state_media = state_media[(state_media[\"Twitter Handle\"].notna()) & (state_media[\"Twitter Handle\"] != \"\")]\n",
    "state_media = state_media.reset_index(drop=True)\n",
    "state_media = state_media.loc[:, [\"Name\", \"Country\",\"Twitter Handle\"]]\n",
    "state_media.to_csv(\"../Mediadatabases/Clean_StateMediaTwitter.csv\", index=False)"
   ]
  }
 ],
 "metadata": {
  "kernelspec": {
   "display_name": "Python 3",
   "language": "python",
   "name": "python3"
  },
  "language_info": {
   "codemirror_mode": {
    "name": "ipython",
    "version": 3
   },
   "file_extension": ".py",
   "mimetype": "text/x-python",
   "name": "python",
   "nbconvert_exporter": "python",
   "pygments_lexer": "ipython3",
   "version": "3.10.9 (main, Dec 15 2022, 10:44:50) [Clang 14.0.0 (clang-1400.0.29.202)]"
  },
  "orig_nbformat": 4,
  "vscode": {
   "interpreter": {
    "hash": "b0fa6594d8f4cbf19f97940f81e996739fb7646882a419484c72d19e05852a7e"
   }
  }
 },
 "nbformat": 4,
 "nbformat_minor": 2
}
