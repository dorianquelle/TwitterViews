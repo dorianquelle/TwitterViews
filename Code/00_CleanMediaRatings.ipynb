{
 "cells": [
  {
   "cell_type": "code",
   "execution_count": 105,
   "metadata": {},
   "outputs": [],
   "source": [
    "import os \n",
    "import pandas as pd"
   ]
  },
  {
   "cell_type": "code",
   "execution_count": 134,
   "metadata": {},
   "outputs": [],
   "source": [
    "# Read in the data\n",
    "data = pd.read_csv(\"../Mediadatabases/Clean_MediaRatingTwitter.csv\",index_col=0)\n",
    "# Remove Rows which are 1) Empty, 2) NA, 3) Not a Twitter Handle\n",
    "data = data[(data[\"Twitter.Handle\"].notna())]\n",
    "data = data.reset_index(drop=True)\n",
    "data = data.loc[:, [\"Name.of.Outlet\", \"Political.Leaning\",\"Twitter.Handle\"]]\n",
    "# Count number of @ per row\n",
    "assert set(data[\"Twitter.Handle\"].str.count(\"@\")) == {0}, \"At least one row has more or less than one @\"\n",
    "data = data[~data[\"Twitter.Handle\"].duplicated()]\n",
    "# Export to CSV\n",
    "data.to_csv(\"../Data/Clean_MediaRatingTwitter.csv\", index=False)"
   ]
  },
  {
   "cell_type": "code",
   "execution_count": null,
   "metadata": {},
   "outputs": [],
   "source": [
    "state_media = pd.read_excel(\"../Mediadatabases/StateMediaTwitter.xlsx\")\n",
    "# Parse Twitter Link to get Twitter Handle\n",
    "state_media[\"Twitter Handle\"] = state_media[\"Twitter Link\"].str.split(\"/\").str[-1]\n",
    "# Remove Rows which are 1) Empty, 2) NA, 3) Not a Twitter Handle\n",
    "state_media = state_media[(state_media[\"Twitter Handle\"].notna()) & (state_media[\"Twitter Handle\"] != \"\")]\n",
    "state_media = state_media.reset_index(drop=True)\n",
    "state_media = state_media.loc[:, [\"Name\", \"Country\",\"Twitter Handle\"]]\n",
    "state_media.to_csv(\"../Mediadatabases/Clean_StateMediaTwitter.csv\", index=False)"
   ]
  }
 ],
 "metadata": {
  "kernelspec": {
   "display_name": "Python 3",
   "language": "python",
   "name": "python3"
  },
  "language_info": {
   "codemirror_mode": {
    "name": "ipython",
    "version": 3
   },
   "file_extension": ".py",
   "mimetype": "text/x-python",
   "name": "python",
   "nbconvert_exporter": "python",
   "pygments_lexer": "ipython3",
   "version": "3.10.9 (main, Dec 15 2022, 10:44:50) [Clang 14.0.0 (clang-1400.0.29.202)]"
  },
  "orig_nbformat": 4,
  "vscode": {
   "interpreter": {
    "hash": "b0fa6594d8f4cbf19f97940f81e996739fb7646882a419484c72d19e05852a7e"
   }
  }
 },
 "nbformat": 4,
 "nbformat_minor": 2
}
